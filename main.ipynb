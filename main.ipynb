{
 "cells": [
  {
   "metadata": {
    "ExecuteTime": {
     "end_time": "2025-05-23T07:37:44.521595Z",
     "start_time": "2025-05-23T07:37:44.510282Z"
    }
   },
   "cell_type": "code",
   "source": [
    "import pandas as pd\n",
    "import matplotlib.pyplot as plt\n",
    "import seaborn as sns"
   ],
   "id": "58676acc36a995d8",
   "outputs": [],
   "execution_count": 18
  },
  {
   "metadata": {
    "ExecuteTime": {
     "end_time": "2025-05-23T07:37:48.484792Z",
     "start_time": "2025-05-23T07:37:48.359587Z"
    }
   },
   "cell_type": "code",
   "source": [
    "# Load the dataset\n",
    "df = pd.read_csv('netflix_titles.csv')"
   ],
   "id": "239a1900771861f3",
   "outputs": [],
   "execution_count": 19
  },
  {
   "metadata": {
    "ExecuteTime": {
     "end_time": "2025-05-23T07:37:52.075369Z",
     "start_time": "2025-05-23T07:37:51.985518Z"
    }
   },
   "cell_type": "code",
   "source": [
    "# Basic info\n",
    "print(df.info())\n",
    "print(\"\\nMissing Values:\\n\", df.isnull().sum())\n",
    "print(\"\\nBasic Statistics:\\n\", df.describe(include='all'))"
   ],
   "id": "e9f88a67e909863e",
   "outputs": [
    {
     "name": "stdout",
     "output_type": "stream",
     "text": [
      "<class 'pandas.core.frame.DataFrame'>\n",
      "RangeIndex: 8807 entries, 0 to 8806\n",
      "Data columns (total 12 columns):\n",
      " #   Column        Non-Null Count  Dtype \n",
      "---  ------        --------------  ----- \n",
      " 0   show_id       8807 non-null   object\n",
      " 1   type          8807 non-null   object\n",
      " 2   title         8807 non-null   object\n",
      " 3   director      6173 non-null   object\n",
      " 4   cast          7982 non-null   object\n",
      " 5   country       7976 non-null   object\n",
      " 6   date_added    8797 non-null   object\n",
      " 7   release_year  8807 non-null   int64 \n",
      " 8   rating        8803 non-null   object\n",
      " 9   duration      8804 non-null   object\n",
      " 10  listed_in     8807 non-null   object\n",
      " 11  description   8807 non-null   object\n",
      "dtypes: int64(1), object(11)\n",
      "memory usage: 825.8+ KB\n",
      "None\n",
      "\n",
      "Missing Values:\n",
      " show_id            0\n",
      "type               0\n",
      "title              0\n",
      "director        2634\n",
      "cast             825\n",
      "country          831\n",
      "date_added        10\n",
      "release_year       0\n",
      "rating             4\n",
      "duration           3\n",
      "listed_in          0\n",
      "description        0\n",
      "dtype: int64\n",
      "\n",
      "Basic Statistics:\n",
      "        show_id   type                 title       director  \\\n",
      "count     8807   8807                  8807           6173   \n",
      "unique    8807      2                  8807           4528   \n",
      "top         s1  Movie  Dick Johnson Is Dead  Rajiv Chilaka   \n",
      "freq         1   6131                     1             19   \n",
      "mean       NaN    NaN                   NaN            NaN   \n",
      "std        NaN    NaN                   NaN            NaN   \n",
      "min        NaN    NaN                   NaN            NaN   \n",
      "25%        NaN    NaN                   NaN            NaN   \n",
      "50%        NaN    NaN                   NaN            NaN   \n",
      "75%        NaN    NaN                   NaN            NaN   \n",
      "max        NaN    NaN                   NaN            NaN   \n",
      "\n",
      "                      cast        country       date_added  release_year  \\\n",
      "count                 7982           7976             8797   8807.000000   \n",
      "unique                7692            748             1767           NaN   \n",
      "top     David Attenborough  United States  January 1, 2020           NaN   \n",
      "freq                    19           2818              109           NaN   \n",
      "mean                   NaN            NaN              NaN   2014.180198   \n",
      "std                    NaN            NaN              NaN      8.819312   \n",
      "min                    NaN            NaN              NaN   1925.000000   \n",
      "25%                    NaN            NaN              NaN   2013.000000   \n",
      "50%                    NaN            NaN              NaN   2017.000000   \n",
      "75%                    NaN            NaN              NaN   2019.000000   \n",
      "max                    NaN            NaN              NaN   2021.000000   \n",
      "\n",
      "       rating  duration                     listed_in  \\\n",
      "count    8803      8804                          8807   \n",
      "unique     17       220                           514   \n",
      "top     TV-MA  1 Season  Dramas, International Movies   \n",
      "freq     3207      1793                           362   \n",
      "mean      NaN       NaN                           NaN   \n",
      "std       NaN       NaN                           NaN   \n",
      "min       NaN       NaN                           NaN   \n",
      "25%       NaN       NaN                           NaN   \n",
      "50%       NaN       NaN                           NaN   \n",
      "75%       NaN       NaN                           NaN   \n",
      "max       NaN       NaN                           NaN   \n",
      "\n",
      "                                              description  \n",
      "count                                                8807  \n",
      "unique                                               8775  \n",
      "top     Paranormal activity at a lush, abandoned prope...  \n",
      "freq                                                    4  \n",
      "mean                                                  NaN  \n",
      "std                                                   NaN  \n",
      "min                                                   NaN  \n",
      "25%                                                   NaN  \n",
      "50%                                                   NaN  \n",
      "75%                                                   NaN  \n",
      "max                                                   NaN  \n"
     ]
    }
   ],
   "execution_count": 20
  },
  {
   "metadata": {},
   "cell_type": "code",
   "outputs": [],
   "execution_count": null,
   "source": "",
   "id": "d4f45e7db06223bb"
  }
 ],
 "metadata": {
  "kernelspec": {
   "display_name": "Python 3 (ipykernel)",
   "language": "python",
   "name": "python3"
  },
  "language_info": {
   "codemirror_mode": {
    "name": "ipython",
    "version": 3
   },
   "file_extension": ".py",
   "mimetype": "text/x-python",
   "name": "python",
   "nbconvert_exporter": "python",
   "pygments_lexer": "ipython3",
   "version": "3.12.7"
  }
 },
 "nbformat": 4,
 "nbformat_minor": 5
}
